{
 "cells": [
  {
   "cell_type": "code",
   "execution_count": 1,
   "metadata": {},
   "outputs": [
    {
     "name": "stderr",
     "output_type": "stream",
     "text": [
      "[nltk_data] Error loading punkt: <urlopen error [WinError 10060] A\n",
      "[nltk_data]     connection attempt failed because the connected party\n",
      "[nltk_data]     did not properly respond after a period of time, or\n",
      "[nltk_data]     established connection failed because connected host\n",
      "[nltk_data]     has failed to respond>\n"
     ]
    },
    {
     "data": {
      "text/plain": [
       "False"
      ]
     },
     "execution_count": 1,
     "metadata": {},
     "output_type": "execute_result"
    }
   ],
   "source": [
    "import gensim\n",
    "from gensim.models import Word2Vec\n",
    "from nltk.tokenize import word_tokenize\n",
    "import nltk\n",
    "nltk.download('punkt')\n"
   ]
  },
  {
   "cell_type": "code",
   "execution_count": null,
   "metadata": {},
   "outputs": [],
   "source": [
    "\n",
    "# Sample corpus (replace with your own text data)\n",
    "corpus = [\n",
    "    \"I enjoy natural language processing.\",\n",
    "    \"Word embeddings are useful for NLP tasks.\",\n",
    "    \"Gensim is a popular library for Word2Vec.\",\n",
    "    \"Machine learning is fascinating.\",\n",
    "    \"Word2Vec can capture semantic relationships.\",\n",
    "]\n",
    "\n",
    "# Tokenize the corpus (convert sentences into lists of words)\n",
    "tokenized_corpus = [word_tokenize(sentence.lower()) for sentence in corpus]\n",
    "\n",
    "# Train a Word2Vec model\n",
    "model = Word2Vec(tokenized_corpus, vector_size=100, window=5, min_count=1, sg=0)\n",
    "\n",
    "# Save the trained model\n",
    "model.save(\"word2vec_model.model\")\n",
    "\n",
    "# Load the model\n",
    "loaded_model = Word2Vec.load(\"word2vec_model.model\")\n",
    "\n",
    "# Find the vector representation of a word\n",
    "word_vector = loaded_model.wv['natural']\n",
    "\n",
    "# Find most similar words\n",
    "similar_words = loaded_model.wv.most_similar('word2vec', topn=5)\n",
    "for word, score in similar_words:\n",
    "    print(f'{word}: {score}')"
   ]
  },
  {
   "cell_type": "code",
   "execution_count": null,
   "metadata": {},
   "outputs": [],
   "source": []
  }
 ],
 "metadata": {
  "kernelspec": {
   "display_name": "Python 3 (ipykernel)",
   "language": "python",
   "name": "python3"
  },
  "language_info": {
   "codemirror_mode": {
    "name": "ipython",
    "version": 3
   },
   "file_extension": ".py",
   "mimetype": "text/x-python",
   "name": "python",
   "nbconvert_exporter": "python",
   "pygments_lexer": "ipython3",
   "version": "3.10.13"
  }
 },
 "nbformat": 4,
 "nbformat_minor": 2
}
