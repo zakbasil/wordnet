{
 "cells": [
  {
   "cell_type": "code",
   "execution_count": 3,
   "metadata": {},
   "outputs": [
    {
     "name": "stdout",
     "output_type": "stream",
     "text": [
      "kings: 0.7138046622276306\n",
      "queen: 0.6510956287384033\n",
      "monarch: 0.6413194537162781\n",
      "crown_prince: 0.6204220056533813\n",
      "prince: 0.6159993410110474\n",
      "sultan: 0.5864824056625366\n",
      "ruler: 0.5797566771507263\n",
      "princes: 0.5646552443504333\n",
      "Prince_Paras: 0.5432944297790527\n",
      "throne: 0.5422104597091675\n",
      "Similarity between king and queen: 0.6510956883430481\n"
     ]
    }
   ],
   "source": [
    "import gensim\n",
    "from gensim.models import Word2Vec\n",
    "\n",
    "# Load pre-trained Word2Vec model (e.g., Google News Word2Vec)\n",
    "# You can download it from: https://code.google.com/archive/p/word2vec/\n",
    "# It's a large file, so make sure you have enough space and bandwidth.\n",
    "# Replace 'path/to/your/model.bin' with the actual path to your downloaded model.\n",
    "model_path = 'C:\\\\Users\\\\basil\\\\Downloads\\\\wordvecs\\\\model.bin'\n",
    "model = gensim.models.KeyedVectors.load_word2vec_format(model_path, binary=True)\n",
    "\n",
    "# Find the vector representation of a word\n",
    "word_vector = model['word']\n",
    "\n",
    "# Find most similar words\n",
    "similar_words = model.most_similar('king', topn=10)\n",
    "for word, score in similar_words:\n",
    "    print(f'{word}: {score}')\n",
    "\n",
    "# Calculate similarity between two words\n",
    "similarity = model.similarity('king', 'queen')\n",
    "print(f'Similarity between king and queen: {similarity}')"
   ]
  },
  {
   "cell_type": "code",
   "execution_count": 4,
   "metadata": {},
   "outputs": [
    {
     "name": "stdout",
     "output_type": "stream",
     "text": [
      "Similarity between king and queen: 0.2634347081184387\n"
     ]
    }
   ],
   "source": [
    "similarity = model.similarity('king', 'minister')\n",
    "print(f'Similarity between king and queen: {similarity}')"
   ]
  },
  {
   "cell_type": "code",
   "execution_count": 8,
   "metadata": {},
   "outputs": [
    {
     "name": "stdout",
     "output_type": "stream",
     "text": [
      "0.5318406\n",
      "0.7203598\n",
      "0.4524312\n",
      "0.6410147\n",
      "0.15842986\n",
      "0.13341045\n",
      "0.4470296\n",
      "0.9999999\n"
     ]
    }
   ],
   "source": [
    "print(model.similarity('banana', 'apple'))\n",
    "print(model.similarity('apples', 'apple'))\n",
    "print(model.similarity('maple', 'apple'))\n",
    "print(model.similarity('fruit', 'apple'))\n",
    "print(model.similarity('water', 'apple'))\n",
    "print(model.similarity('healthy', 'apple'))\n",
    "print(model.similarity('vegetable', 'apple'))\n",
    "print(model.similarity('apple', 'apple'))\n"
   ]
  },
  {
   "cell_type": "code",
   "execution_count": 9,
   "metadata": {},
   "outputs": [
    {
     "name": "stdout",
     "output_type": "stream",
     "text": [
      "apples: 0.720359742641449\n",
      "pear: 0.6450697183609009\n",
      "fruit: 0.6410146355628967\n",
      "berry: 0.6302295327186584\n",
      "pears: 0.613396167755127\n",
      "strawberry: 0.6058260798454285\n",
      "peach: 0.6025872826576233\n",
      "potato: 0.5960935354232788\n",
      "grape: 0.5935865044593811\n",
      "blueberry: 0.5866668820381165\n"
     ]
    }
   ],
   "source": [
    "similar_words = model.most_similar('apple', topn=10)\n",
    "for word, score in similar_words:\n",
    "    print(f'{word}: {score}')"
   ]
  },
  {
   "cell_type": "code",
   "execution_count": 10,
   "metadata": {},
   "outputs": [
    {
     "name": "stdout",
     "output_type": "stream",
     "text": [
      "birch: 0.6357672810554504\n",
      "maple_birch: 0.6189066767692566\n",
      "maples: 0.6111591458320618\n",
      "cedar: 0.6069733500480652\n",
      "pine: 0.6060056090354919\n",
      "walnut_cherry: 0.5972530245780945\n",
      "enforcer_Wendel: 0.5854101777076721\n",
      "sugar_maple: 0.5797055959701538\n",
      "curly_maple: 0.5772557854652405\n",
      "butternut: 0.5747390985488892\n"
     ]
    }
   ],
   "source": [
    "similar_words = model.most_similar('maple', topn=10)\n",
    "for word, score in similar_words:\n",
    "    print(f'{word}: {score}')"
   ]
  },
  {
   "cell_type": "code",
   "execution_count": 15,
   "metadata": {},
   "outputs": [
    {
     "name": "stdout",
     "output_type": "stream",
     "text": [
      "winds: 0.7204775214195251\n",
      "Wind: 0.6752251982688904\n",
      "paupers_graves_Xicotencatl: 0.6299488544464111\n",
      "gusts: 0.5962637066841125\n",
      "Winds: 0.594899594783783\n",
      "breeze: 0.592047929763794\n",
      "northwesterly_wind: 0.5902013182640076\n",
      "wind_blows: 0.589418888092041\n",
      "breezes: 0.5883914828300476\n",
      "southwesterly_wind: 0.5843490958213806\n"
     ]
    }
   ],
   "source": [
    "similar_words = model.most_similar('wind', topn=10)\n",
    "for word, score in similar_words:\n",
    "    print(f'{word}: {score}')"
   ]
  },
  {
   "cell_type": "code",
   "execution_count": null,
   "metadata": {},
   "outputs": [],
   "source": []
  }
 ],
 "metadata": {
  "kernelspec": {
   "display_name": "wordGame",
   "language": "python",
   "name": "python3"
  },
  "language_info": {
   "codemirror_mode": {
    "name": "ipython",
    "version": 3
   },
   "file_extension": ".py",
   "mimetype": "text/x-python",
   "name": "python",
   "nbconvert_exporter": "python",
   "pygments_lexer": "ipython3",
   "version": "3.10.13"
  },
  "orig_nbformat": 4
 },
 "nbformat": 4,
 "nbformat_minor": 2
}
